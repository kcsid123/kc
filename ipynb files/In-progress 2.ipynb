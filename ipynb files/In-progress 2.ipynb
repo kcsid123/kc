{
 "cells": [
  {
   "cell_type": "code",
   "execution_count": 1,
   "metadata": {},
   "outputs": [],
   "source": [
    "import numpy as np \n",
    "import pandas as pd \n",
    "import os\n",
    "\n",
    "import seaborn as sns \n",
    "import matplotlib.pyplot as plt \n",
    "import csv\n",
    "\n",
    "from matplotlib import colors\n",
    "from matplotlib.ticker import PercentFormatter\n",
    "import copy\n"
   ]
  },
  {
   "cell_type": "code",
   "execution_count": 2,
   "metadata": {},
   "outputs": [
    {
     "data": {
      "text/html": [
       "<div>\n",
       "<style scoped>\n",
       "    .dataframe tbody tr th:only-of-type {\n",
       "        vertical-align: middle;\n",
       "    }\n",
       "\n",
       "    .dataframe tbody tr th {\n",
       "        vertical-align: top;\n",
       "    }\n",
       "\n",
       "    .dataframe thead th {\n",
       "        text-align: right;\n",
       "    }\n",
       "</style>\n",
       "<table border=\"1\" class=\"dataframe\">\n",
       "  <thead>\n",
       "    <tr style=\"text-align: right;\">\n",
       "      <th></th>\n",
       "      <th>DataStore</th>\n",
       "      <th>Dataset</th>\n",
       "      <th>Provider</th>\n",
       "      <th>Location_ID</th>\n",
       "      <th>Layer_ID</th>\n",
       "      <th>SampleID</th>\n",
       "      <th>SampleDate</th>\n",
       "      <th>Longitude</th>\n",
       "      <th>Latitude</th>\n",
       "      <th>UpperDepth</th>\n",
       "      <th>...</th>\n",
       "      <th>ExtractTime</th>\n",
       "      <th>LAB_METH_CODE</th>\n",
       "      <th>LAB_METH_NAME</th>\n",
       "      <th>LAB_METH_SHORT_NAME</th>\n",
       "      <th>CREATED_BY</th>\n",
       "      <th>CREATION_DATE</th>\n",
       "      <th>LAST_UPDATED_BY</th>\n",
       "      <th>LAST_UPDATE_DATE</th>\n",
       "      <th>UNITS</th>\n",
       "      <th>tup_long_lat</th>\n",
       "    </tr>\n",
       "  </thead>\n",
       "  <tbody>\n",
       "    <tr>\n",
       "      <th>0</th>\n",
       "      <td>SALI</td>\n",
       "      <td>QLDGovernment</td>\n",
       "      <td>QLDGovernment</td>\n",
       "      <td>QLD_NWREC_33_1</td>\n",
       "      <td>2.0</td>\n",
       "      <td>2.0</td>\n",
       "      <td>05-12-2008</td>\n",
       "      <td>138.337753</td>\n",
       "      <td>-17.44456</td>\n",
       "      <td>0.0</td>\n",
       "      <td>...</td>\n",
       "      <td>2021-10-01T04:39:52</td>\n",
       "      <td>10A1</td>\n",
       "      <td>total sulfur - x-ray fluorescence</td>\n",
       "      <td>total s xrf</td>\n",
       "      <td>SALI</td>\n",
       "      <td>11-Mar-03</td>\n",
       "      <td>SALI</td>\n",
       "      <td>11-Mar-03</td>\n",
       "      <td>%</td>\n",
       "      <td>(138.337753, -17.44456)</td>\n",
       "    </tr>\n",
       "    <tr>\n",
       "      <th>1</th>\n",
       "      <td>SALI</td>\n",
       "      <td>QLDGovernment</td>\n",
       "      <td>QLDGovernment</td>\n",
       "      <td>QLD_NWREC_33_1</td>\n",
       "      <td>3.0</td>\n",
       "      <td>3.0</td>\n",
       "      <td>05-12-2008</td>\n",
       "      <td>138.337753</td>\n",
       "      <td>-17.44456</td>\n",
       "      <td>0.2</td>\n",
       "      <td>...</td>\n",
       "      <td>2021-10-01T04:39:52</td>\n",
       "      <td>10A1</td>\n",
       "      <td>total sulfur - x-ray fluorescence</td>\n",
       "      <td>total s xrf</td>\n",
       "      <td>SALI</td>\n",
       "      <td>11-Mar-03</td>\n",
       "      <td>SALI</td>\n",
       "      <td>11-Mar-03</td>\n",
       "      <td>%</td>\n",
       "      <td>(138.337753, -17.44456)</td>\n",
       "    </tr>\n",
       "    <tr>\n",
       "      <th>2</th>\n",
       "      <td>SALI</td>\n",
       "      <td>QLDGovernment</td>\n",
       "      <td>QLDGovernment</td>\n",
       "      <td>QLD_NWREC_33_1</td>\n",
       "      <td>4.0</td>\n",
       "      <td>4.0</td>\n",
       "      <td>05-12-2008</td>\n",
       "      <td>138.337753</td>\n",
       "      <td>-17.44456</td>\n",
       "      <td>0.5</td>\n",
       "      <td>...</td>\n",
       "      <td>2021-10-01T04:39:52</td>\n",
       "      <td>10A1</td>\n",
       "      <td>total sulfur - x-ray fluorescence</td>\n",
       "      <td>total s xrf</td>\n",
       "      <td>SALI</td>\n",
       "      <td>11-Mar-03</td>\n",
       "      <td>SALI</td>\n",
       "      <td>11-Mar-03</td>\n",
       "      <td>%</td>\n",
       "      <td>(138.337753, -17.44456)</td>\n",
       "    </tr>\n",
       "    <tr>\n",
       "      <th>3</th>\n",
       "      <td>SALI</td>\n",
       "      <td>QLDGovernment</td>\n",
       "      <td>QLDGovernment</td>\n",
       "      <td>QLD_NWREC_33_1</td>\n",
       "      <td>5.0</td>\n",
       "      <td>5.0</td>\n",
       "      <td>05-12-2008</td>\n",
       "      <td>138.337753</td>\n",
       "      <td>-17.44456</td>\n",
       "      <td>0.8</td>\n",
       "      <td>...</td>\n",
       "      <td>2021-10-01T04:39:52</td>\n",
       "      <td>10A1</td>\n",
       "      <td>total sulfur - x-ray fluorescence</td>\n",
       "      <td>total s xrf</td>\n",
       "      <td>SALI</td>\n",
       "      <td>11-Mar-03</td>\n",
       "      <td>SALI</td>\n",
       "      <td>11-Mar-03</td>\n",
       "      <td>%</td>\n",
       "      <td>(138.337753, -17.44456)</td>\n",
       "    </tr>\n",
       "    <tr>\n",
       "      <th>4</th>\n",
       "      <td>SALI</td>\n",
       "      <td>QLDGovernment</td>\n",
       "      <td>QLDGovernment</td>\n",
       "      <td>QLD_NWREC_33_1</td>\n",
       "      <td>2.0</td>\n",
       "      <td>2.0</td>\n",
       "      <td>27-11-2008</td>\n",
       "      <td>138.337753</td>\n",
       "      <td>-17.44456</td>\n",
       "      <td>0.0</td>\n",
       "      <td>...</td>\n",
       "      <td>2021-10-01T05:05:27</td>\n",
       "      <td>15A1_K</td>\n",
       "      <td>exchangeable bases (k+) - 1m ammonium chloride...</td>\n",
       "      <td>exch k - nh4cl no wash</td>\n",
       "      <td>SALI</td>\n",
       "      <td>11-Mar-03</td>\n",
       "      <td>SALI</td>\n",
       "      <td>15-Jun-21</td>\n",
       "      <td>cmol_c/kg</td>\n",
       "      <td>(138.337753, -17.44456)</td>\n",
       "    </tr>\n",
       "  </tbody>\n",
       "</table>\n",
       "<p>5 rows × 29 columns</p>\n",
       "</div>"
      ],
      "text/plain": [
       "  DataStore        Dataset       Provider     Location_ID  Layer_ID  SampleID  \\\n",
       "0      SALI  QLDGovernment  QLDGovernment  QLD_NWREC_33_1       2.0       2.0   \n",
       "1      SALI  QLDGovernment  QLDGovernment  QLD_NWREC_33_1       3.0       3.0   \n",
       "2      SALI  QLDGovernment  QLDGovernment  QLD_NWREC_33_1       4.0       4.0   \n",
       "3      SALI  QLDGovernment  QLDGovernment  QLD_NWREC_33_1       5.0       5.0   \n",
       "4      SALI  QLDGovernment  QLDGovernment  QLD_NWREC_33_1       2.0       2.0   \n",
       "\n",
       "   SampleDate   Longitude  Latitude  UpperDepth  ...          ExtractTime  \\\n",
       "0  05-12-2008  138.337753 -17.44456         0.0  ...  2021-10-01T04:39:52   \n",
       "1  05-12-2008  138.337753 -17.44456         0.2  ...  2021-10-01T04:39:52   \n",
       "2  05-12-2008  138.337753 -17.44456         0.5  ...  2021-10-01T04:39:52   \n",
       "3  05-12-2008  138.337753 -17.44456         0.8  ...  2021-10-01T04:39:52   \n",
       "4  27-11-2008  138.337753 -17.44456         0.0  ...  2021-10-01T05:05:27   \n",
       "\n",
       "  LAB_METH_CODE                                      LAB_METH_NAME  \\\n",
       "0          10A1                  total sulfur - x-ray fluorescence   \n",
       "1          10A1                  total sulfur - x-ray fluorescence   \n",
       "2          10A1                  total sulfur - x-ray fluorescence   \n",
       "3          10A1                  total sulfur - x-ray fluorescence   \n",
       "4        15A1_K  exchangeable bases (k+) - 1m ammonium chloride...   \n",
       "\n",
       "      LAB_METH_SHORT_NAME  CREATED_BY  CREATION_DATE  LAST_UPDATED_BY  \\\n",
       "0             total s xrf        SALI      11-Mar-03             SALI   \n",
       "1             total s xrf        SALI      11-Mar-03             SALI   \n",
       "2             total s xrf        SALI      11-Mar-03             SALI   \n",
       "3             total s xrf        SALI      11-Mar-03             SALI   \n",
       "4  exch k - nh4cl no wash        SALI      11-Mar-03             SALI   \n",
       "\n",
       "   LAST_UPDATE_DATE      UNITS             tup_long_lat  \n",
       "0         11-Mar-03          %  (138.337753, -17.44456)  \n",
       "1         11-Mar-03          %  (138.337753, -17.44456)  \n",
       "2         11-Mar-03          %  (138.337753, -17.44456)  \n",
       "3         11-Mar-03          %  (138.337753, -17.44456)  \n",
       "4         15-Jun-21  cmol_c/kg  (138.337753, -17.44456)  \n",
       "\n",
       "[5 rows x 29 columns]"
      ]
     },
     "execution_count": 2,
     "metadata": {},
     "output_type": "execute_result"
    }
   ],
   "source": [
    "file = pd.read_csv('C:\\\\Users\\\\siddh\\\\Desktop\\\\DES\\\\Bulk Density Soils for R\\\\1.csv')\n",
    "file.head()"
   ]
  },
  {
   "cell_type": "code",
   "execution_count": 3,
   "metadata": {},
   "outputs": [],
   "source": [
    "sym1 = '<'\n",
    "sym2 = '>'\n",
    "#file['Value']"
   ]
  },
  {
   "cell_type": "code",
   "execution_count": 4,
   "metadata": {},
   "outputs": [],
   "source": [
    "values = copy.deepcopy(file['Value'])\n",
    "c = 0"
   ]
  },
  {
   "cell_type": "code",
   "execution_count": 47,
   "metadata": {},
   "outputs": [],
   "source": [
    "for i in range(len(values)): \n",
    "    if sym1 in str(values[i]): \n",
    "        values[i] = values[i].replace('<', '')\n",
    "        values[i] = float(values[i])\n",
    "    elif sym2 in str(values[i]): \n",
    "        values[i] = values[i].replace('>', '')\n",
    "        values[i] = float(values[i])"
   ]
  },
  {
   "cell_type": "code",
   "execution_count": 62,
   "metadata": {},
   "outputs": [],
   "source": [
    "#file['Value']"
   ]
  },
  {
   "cell_type": "code",
   "execution_count": 63,
   "metadata": {
    "scrolled": true
   },
   "outputs": [],
   "source": [
    "#file['float_values'] = values"
   ]
  },
  {
   "cell_type": "code",
   "execution_count": 64,
   "metadata": {},
   "outputs": [],
   "source": [
    "#file['Value']"
   ]
  },
  {
   "cell_type": "code",
   "execution_count": 65,
   "metadata": {},
   "outputs": [],
   "source": [
    "#file['float_values']"
   ]
  },
  {
   "cell_type": "code",
   "execution_count": 52,
   "metadata": {},
   "outputs": [
    {
     "data": {
      "text/html": [
       "<div>\n",
       "<style scoped>\n",
       "    .dataframe tbody tr th:only-of-type {\n",
       "        vertical-align: middle;\n",
       "    }\n",
       "\n",
       "    .dataframe tbody tr th {\n",
       "        vertical-align: top;\n",
       "    }\n",
       "\n",
       "    .dataframe thead th {\n",
       "        text-align: right;\n",
       "    }\n",
       "</style>\n",
       "<table border=\"1\" class=\"dataframe\">\n",
       "  <thead>\n",
       "    <tr style=\"text-align: right;\">\n",
       "      <th></th>\n",
       "      <th>DataStore</th>\n",
       "      <th>Dataset</th>\n",
       "      <th>Provider</th>\n",
       "      <th>Location_ID</th>\n",
       "      <th>Layer_ID</th>\n",
       "      <th>SampleID</th>\n",
       "      <th>SampleDate</th>\n",
       "      <th>Longitude</th>\n",
       "      <th>Latitude</th>\n",
       "      <th>UpperDepth</th>\n",
       "      <th>...</th>\n",
       "      <th>LAB_METH_CODE</th>\n",
       "      <th>LAB_METH_NAME</th>\n",
       "      <th>LAB_METH_SHORT_NAME</th>\n",
       "      <th>CREATED_BY</th>\n",
       "      <th>CREATION_DATE</th>\n",
       "      <th>LAST_UPDATED_BY</th>\n",
       "      <th>LAST_UPDATE_DATE</th>\n",
       "      <th>UNITS</th>\n",
       "      <th>tup_long_lat</th>\n",
       "      <th>float_values</th>\n",
       "    </tr>\n",
       "  </thead>\n",
       "  <tbody>\n",
       "    <tr>\n",
       "      <th>0</th>\n",
       "      <td>SALI</td>\n",
       "      <td>QLDGovernment</td>\n",
       "      <td>QLDGovernment</td>\n",
       "      <td>QLD_NWREC_33_1</td>\n",
       "      <td>2.0</td>\n",
       "      <td>2.0</td>\n",
       "      <td>05-12-2008</td>\n",
       "      <td>138.337753</td>\n",
       "      <td>-17.44456</td>\n",
       "      <td>0.0</td>\n",
       "      <td>...</td>\n",
       "      <td>10A1</td>\n",
       "      <td>total sulfur - x-ray fluorescence</td>\n",
       "      <td>total s xrf</td>\n",
       "      <td>SALI</td>\n",
       "      <td>11-Mar-03</td>\n",
       "      <td>SALI</td>\n",
       "      <td>11-Mar-03</td>\n",
       "      <td>%</td>\n",
       "      <td>(138.337753, -17.44456)</td>\n",
       "      <td>0.01</td>\n",
       "    </tr>\n",
       "    <tr>\n",
       "      <th>1</th>\n",
       "      <td>SALI</td>\n",
       "      <td>QLDGovernment</td>\n",
       "      <td>QLDGovernment</td>\n",
       "      <td>QLD_NWREC_33_1</td>\n",
       "      <td>3.0</td>\n",
       "      <td>3.0</td>\n",
       "      <td>05-12-2008</td>\n",
       "      <td>138.337753</td>\n",
       "      <td>-17.44456</td>\n",
       "      <td>0.2</td>\n",
       "      <td>...</td>\n",
       "      <td>10A1</td>\n",
       "      <td>total sulfur - x-ray fluorescence</td>\n",
       "      <td>total s xrf</td>\n",
       "      <td>SALI</td>\n",
       "      <td>11-Mar-03</td>\n",
       "      <td>SALI</td>\n",
       "      <td>11-Mar-03</td>\n",
       "      <td>%</td>\n",
       "      <td>(138.337753, -17.44456)</td>\n",
       "      <td>0.01</td>\n",
       "    </tr>\n",
       "    <tr>\n",
       "      <th>2</th>\n",
       "      <td>SALI</td>\n",
       "      <td>QLDGovernment</td>\n",
       "      <td>QLDGovernment</td>\n",
       "      <td>QLD_NWREC_33_1</td>\n",
       "      <td>4.0</td>\n",
       "      <td>4.0</td>\n",
       "      <td>05-12-2008</td>\n",
       "      <td>138.337753</td>\n",
       "      <td>-17.44456</td>\n",
       "      <td>0.5</td>\n",
       "      <td>...</td>\n",
       "      <td>10A1</td>\n",
       "      <td>total sulfur - x-ray fluorescence</td>\n",
       "      <td>total s xrf</td>\n",
       "      <td>SALI</td>\n",
       "      <td>11-Mar-03</td>\n",
       "      <td>SALI</td>\n",
       "      <td>11-Mar-03</td>\n",
       "      <td>%</td>\n",
       "      <td>(138.337753, -17.44456)</td>\n",
       "      <td>0.01</td>\n",
       "    </tr>\n",
       "    <tr>\n",
       "      <th>3</th>\n",
       "      <td>SALI</td>\n",
       "      <td>QLDGovernment</td>\n",
       "      <td>QLDGovernment</td>\n",
       "      <td>QLD_NWREC_33_1</td>\n",
       "      <td>5.0</td>\n",
       "      <td>5.0</td>\n",
       "      <td>05-12-2008</td>\n",
       "      <td>138.337753</td>\n",
       "      <td>-17.44456</td>\n",
       "      <td>0.8</td>\n",
       "      <td>...</td>\n",
       "      <td>10A1</td>\n",
       "      <td>total sulfur - x-ray fluorescence</td>\n",
       "      <td>total s xrf</td>\n",
       "      <td>SALI</td>\n",
       "      <td>11-Mar-03</td>\n",
       "      <td>SALI</td>\n",
       "      <td>11-Mar-03</td>\n",
       "      <td>%</td>\n",
       "      <td>(138.337753, -17.44456)</td>\n",
       "      <td>0.01</td>\n",
       "    </tr>\n",
       "    <tr>\n",
       "      <th>4</th>\n",
       "      <td>SALI</td>\n",
       "      <td>QLDGovernment</td>\n",
       "      <td>QLDGovernment</td>\n",
       "      <td>QLD_NWREC_33_1</td>\n",
       "      <td>2.0</td>\n",
       "      <td>2.0</td>\n",
       "      <td>27-11-2008</td>\n",
       "      <td>138.337753</td>\n",
       "      <td>-17.44456</td>\n",
       "      <td>0.0</td>\n",
       "      <td>...</td>\n",
       "      <td>15A1_K</td>\n",
       "      <td>exchangeable bases (k+) - 1m ammonium chloride...</td>\n",
       "      <td>exch k - nh4cl no wash</td>\n",
       "      <td>SALI</td>\n",
       "      <td>11-Mar-03</td>\n",
       "      <td>SALI</td>\n",
       "      <td>15-Jun-21</td>\n",
       "      <td>cmol_c/kg</td>\n",
       "      <td>(138.337753, -17.44456)</td>\n",
       "      <td>0.08</td>\n",
       "    </tr>\n",
       "  </tbody>\n",
       "</table>\n",
       "<p>5 rows × 30 columns</p>\n",
       "</div>"
      ],
      "text/plain": [
       "  DataStore        Dataset       Provider     Location_ID  Layer_ID  SampleID  \\\n",
       "0      SALI  QLDGovernment  QLDGovernment  QLD_NWREC_33_1       2.0       2.0   \n",
       "1      SALI  QLDGovernment  QLDGovernment  QLD_NWREC_33_1       3.0       3.0   \n",
       "2      SALI  QLDGovernment  QLDGovernment  QLD_NWREC_33_1       4.0       4.0   \n",
       "3      SALI  QLDGovernment  QLDGovernment  QLD_NWREC_33_1       5.0       5.0   \n",
       "4      SALI  QLDGovernment  QLDGovernment  QLD_NWREC_33_1       2.0       2.0   \n",
       "\n",
       "   SampleDate   Longitude  Latitude  UpperDepth  ...  LAB_METH_CODE  \\\n",
       "0  05-12-2008  138.337753 -17.44456         0.0  ...           10A1   \n",
       "1  05-12-2008  138.337753 -17.44456         0.2  ...           10A1   \n",
       "2  05-12-2008  138.337753 -17.44456         0.5  ...           10A1   \n",
       "3  05-12-2008  138.337753 -17.44456         0.8  ...           10A1   \n",
       "4  27-11-2008  138.337753 -17.44456         0.0  ...         15A1_K   \n",
       "\n",
       "                                       LAB_METH_NAME     LAB_METH_SHORT_NAME  \\\n",
       "0                  total sulfur - x-ray fluorescence             total s xrf   \n",
       "1                  total sulfur - x-ray fluorescence             total s xrf   \n",
       "2                  total sulfur - x-ray fluorescence             total s xrf   \n",
       "3                  total sulfur - x-ray fluorescence             total s xrf   \n",
       "4  exchangeable bases (k+) - 1m ammonium chloride...  exch k - nh4cl no wash   \n",
       "\n",
       "  CREATED_BY  CREATION_DATE  LAST_UPDATED_BY  LAST_UPDATE_DATE      UNITS  \\\n",
       "0       SALI      11-Mar-03             SALI         11-Mar-03          %   \n",
       "1       SALI      11-Mar-03             SALI         11-Mar-03          %   \n",
       "2       SALI      11-Mar-03             SALI         11-Mar-03          %   \n",
       "3       SALI      11-Mar-03             SALI         11-Mar-03          %   \n",
       "4       SALI      11-Mar-03             SALI         15-Jun-21  cmol_c/kg   \n",
       "\n",
       "              tup_long_lat float_values  \n",
       "0  (138.337753, -17.44456)         0.01  \n",
       "1  (138.337753, -17.44456)         0.01  \n",
       "2  (138.337753, -17.44456)         0.01  \n",
       "3  (138.337753, -17.44456)         0.01  \n",
       "4  (138.337753, -17.44456)         0.08  \n",
       "\n",
       "[5 rows x 30 columns]"
      ]
     },
     "execution_count": 52,
     "metadata": {},
     "output_type": "execute_result"
    }
   ],
   "source": [
    "file.head()"
   ]
  },
  {
   "cell_type": "code",
   "execution_count": null,
   "metadata": {},
   "outputs": [],
   "source": []
  },
  {
   "cell_type": "code",
   "execution_count": 58,
   "metadata": {},
   "outputs": [],
   "source": [
    "location1 = 'C:\\\\Users\\\\siddh\\\\Desktop\\\\DES\\\\Bulk Density Soils for R\\\\'"
   ]
  },
  {
   "cell_type": "code",
   "execution_count": 59,
   "metadata": {},
   "outputs": [],
   "source": [
    "sym1 = '<'\n",
    "sym2 = '>'"
   ]
  },
  {
   "cell_type": "code",
   "execution_count": 70,
   "metadata": {},
   "outputs": [],
   "source": [
    "\n",
    "\n",
    "\n",
    "location2 = 'C:\\\\Users\\\\siddh\\\\Desktop\\\\DES\\\\Spline Files\\\\'\n",
    "\n",
    "name = 1\n",
    "\n",
    "extension = '.csv'"
   ]
  },
  {
   "cell_type": "code",
   "execution_count": 71,
   "metadata": {},
   "outputs": [],
   "source": [
    "for i in range(1,370): \n",
    "    \n",
    "    file = pd.read_csv(location1 + str(name) + extension)\n",
    "    \n",
    "    values = copy.deepcopy(file['Value'])\n",
    "    \n",
    "    for i in range(len(values)): \n",
    "        \n",
    "        if sym1 in str(values[i]): \n",
    "            values[i] = values[i].replace('<', '')\n",
    "            values[i] = float(values[i])\n",
    "        elif sym2 in str(values[i]): \n",
    "            values[i] = values[i].replace('>', '')\n",
    "            values[i] = float(values[i])\n",
    "    \n",
    "    file['float_values'] = values\n",
    "    \n",
    "    file.to_csv(location2 + str(name) + extension, index = False)\n",
    "    \n",
    "    name += 1\n",
    "    \n",
    "    \n",
    "    "
   ]
  },
  {
   "cell_type": "code",
   "execution_count": 91,
   "metadata": {},
   "outputs": [
    {
     "data": {
      "text/plain": [
       "'C:\\\\Users\\\\siddh\\\\Desktop\\\\DES\\\\Spline Files\\\\testFolder'"
      ]
     },
     "execution_count": 91,
     "metadata": {},
     "output_type": "execute_result"
    }
   ],
   "source": [
    "lbv = location2 + 'testFolder'\n",
    "type(lbv)\n",
    "\n",
    "lbv"
   ]
  },
  {
   "cell_type": "code",
   "execution_count": 92,
   "metadata": {},
   "outputs": [
    {
     "name": "stderr",
     "output_type": "stream",
     "text": [
      "A subdirectory or file lbv already exists.\n"
     ]
    }
   ],
   "source": [
    "!mkdir lbv"
   ]
  },
  {
   "cell_type": "code",
   "execution_count": 96,
   "metadata": {},
   "outputs": [
    {
     "ename": "FileExistsError",
     "evalue": "[WinError 183] Cannot create a file when that file already exists: 'C:\\\\Users\\\\siddh\\\\Desktop\\\\DES\\\\Spline Files\\\\aaaaaaaaa'",
     "output_type": "error",
     "traceback": [
      "\u001b[1;31m---------------------------------------------------------------------------\u001b[0m",
      "\u001b[1;31mFileExistsError\u001b[0m                           Traceback (most recent call last)",
      "\u001b[1;32m<ipython-input-96-3c399e8ef892>\u001b[0m in \u001b[0;36m<module>\u001b[1;34m\u001b[0m\n\u001b[0;32m     13\u001b[0m \u001b[1;31m# 'GeeksForGeeks' in\u001b[0m\u001b[1;33m\u001b[0m\u001b[1;33m\u001b[0m\u001b[1;33m\u001b[0m\u001b[0m\n\u001b[0;32m     14\u001b[0m \u001b[1;31m# '/home / User / Documents'\u001b[0m\u001b[1;33m\u001b[0m\u001b[1;33m\u001b[0m\u001b[1;33m\u001b[0m\u001b[0m\n\u001b[1;32m---> 15\u001b[1;33m \u001b[0mos\u001b[0m\u001b[1;33m.\u001b[0m\u001b[0mmkdir\u001b[0m\u001b[1;33m(\u001b[0m\u001b[0mpath\u001b[0m\u001b[1;33m)\u001b[0m\u001b[1;33m\u001b[0m\u001b[1;33m\u001b[0m\u001b[0m\n\u001b[0m\u001b[0;32m     16\u001b[0m \u001b[0mprint\u001b[0m\u001b[1;33m(\u001b[0m\u001b[1;34m\"Directory '% s' created\"\u001b[0m \u001b[1;33m%\u001b[0m \u001b[0mdirectory\u001b[0m\u001b[1;33m)\u001b[0m\u001b[1;33m\u001b[0m\u001b[1;33m\u001b[0m\u001b[0m\n",
      "\u001b[1;31mFileExistsError\u001b[0m: [WinError 183] Cannot create a file when that file already exists: 'C:\\\\Users\\\\siddh\\\\Desktop\\\\DES\\\\Spline Files\\\\aaaaaaaaa'"
     ]
    }
   ],
   "source": [
    "import os\n",
    "  \n",
    "# Directory\n",
    "directory = \"aaaaaaaaa\"\n",
    "  \n",
    "# Parent Directory path\n",
    "parent_dir = location2\n",
    "  \n",
    "# Path\n",
    "path = os.path.join(parent_dir, directory)\n",
    "  \n",
    "# Create the directory\n",
    "# 'GeeksForGeeks' in\n",
    "# '/home / User / Documents'\n",
    "os.mkdir(path)\n",
    "print(\"Directory '% s' created\" % directory)"
   ]
  },
  {
   "cell_type": "code",
   "execution_count": 97,
   "metadata": {},
   "outputs": [],
   "source": [
    "file = pd.read_csv('C:\\\\Users\\\\siddh\\\\Desktop\\\\DES\\\\Spline Files\\\\1.csv')"
   ]
  },
  {
   "cell_type": "code",
   "execution_count": 98,
   "metadata": {},
   "outputs": [
    {
     "data": {
      "text/html": [
       "<div>\n",
       "<style scoped>\n",
       "    .dataframe tbody tr th:only-of-type {\n",
       "        vertical-align: middle;\n",
       "    }\n",
       "\n",
       "    .dataframe tbody tr th {\n",
       "        vertical-align: top;\n",
       "    }\n",
       "\n",
       "    .dataframe thead th {\n",
       "        text-align: right;\n",
       "    }\n",
       "</style>\n",
       "<table border=\"1\" class=\"dataframe\">\n",
       "  <thead>\n",
       "    <tr style=\"text-align: right;\">\n",
       "      <th></th>\n",
       "      <th>DataStore</th>\n",
       "      <th>Dataset</th>\n",
       "      <th>Provider</th>\n",
       "      <th>Location_ID</th>\n",
       "      <th>Layer_ID</th>\n",
       "      <th>SampleID</th>\n",
       "      <th>SampleDate</th>\n",
       "      <th>Longitude</th>\n",
       "      <th>Latitude</th>\n",
       "      <th>UpperDepth</th>\n",
       "      <th>...</th>\n",
       "      <th>LAB_METH_CODE</th>\n",
       "      <th>LAB_METH_NAME</th>\n",
       "      <th>LAB_METH_SHORT_NAME</th>\n",
       "      <th>CREATED_BY</th>\n",
       "      <th>CREATION_DATE</th>\n",
       "      <th>LAST_UPDATED_BY</th>\n",
       "      <th>LAST_UPDATE_DATE</th>\n",
       "      <th>UNITS</th>\n",
       "      <th>tup_long_lat</th>\n",
       "      <th>float_values</th>\n",
       "    </tr>\n",
       "  </thead>\n",
       "  <tbody>\n",
       "    <tr>\n",
       "      <th>0</th>\n",
       "      <td>SALI</td>\n",
       "      <td>QLDGovernment</td>\n",
       "      <td>QLDGovernment</td>\n",
       "      <td>QLD_NWREC_33_1</td>\n",
       "      <td>2.0</td>\n",
       "      <td>2.0</td>\n",
       "      <td>05-12-2008</td>\n",
       "      <td>138.337753</td>\n",
       "      <td>-17.44456</td>\n",
       "      <td>0.0</td>\n",
       "      <td>...</td>\n",
       "      <td>10A1</td>\n",
       "      <td>total sulfur - x-ray fluorescence</td>\n",
       "      <td>total s xrf</td>\n",
       "      <td>SALI</td>\n",
       "      <td>11-Mar-03</td>\n",
       "      <td>SALI</td>\n",
       "      <td>11-Mar-03</td>\n",
       "      <td>%</td>\n",
       "      <td>(138.337753, -17.44456)</td>\n",
       "      <td>0.01</td>\n",
       "    </tr>\n",
       "    <tr>\n",
       "      <th>1</th>\n",
       "      <td>SALI</td>\n",
       "      <td>QLDGovernment</td>\n",
       "      <td>QLDGovernment</td>\n",
       "      <td>QLD_NWREC_33_1</td>\n",
       "      <td>3.0</td>\n",
       "      <td>3.0</td>\n",
       "      <td>05-12-2008</td>\n",
       "      <td>138.337753</td>\n",
       "      <td>-17.44456</td>\n",
       "      <td>0.2</td>\n",
       "      <td>...</td>\n",
       "      <td>10A1</td>\n",
       "      <td>total sulfur - x-ray fluorescence</td>\n",
       "      <td>total s xrf</td>\n",
       "      <td>SALI</td>\n",
       "      <td>11-Mar-03</td>\n",
       "      <td>SALI</td>\n",
       "      <td>11-Mar-03</td>\n",
       "      <td>%</td>\n",
       "      <td>(138.337753, -17.44456)</td>\n",
       "      <td>0.01</td>\n",
       "    </tr>\n",
       "    <tr>\n",
       "      <th>2</th>\n",
       "      <td>SALI</td>\n",
       "      <td>QLDGovernment</td>\n",
       "      <td>QLDGovernment</td>\n",
       "      <td>QLD_NWREC_33_1</td>\n",
       "      <td>4.0</td>\n",
       "      <td>4.0</td>\n",
       "      <td>05-12-2008</td>\n",
       "      <td>138.337753</td>\n",
       "      <td>-17.44456</td>\n",
       "      <td>0.5</td>\n",
       "      <td>...</td>\n",
       "      <td>10A1</td>\n",
       "      <td>total sulfur - x-ray fluorescence</td>\n",
       "      <td>total s xrf</td>\n",
       "      <td>SALI</td>\n",
       "      <td>11-Mar-03</td>\n",
       "      <td>SALI</td>\n",
       "      <td>11-Mar-03</td>\n",
       "      <td>%</td>\n",
       "      <td>(138.337753, -17.44456)</td>\n",
       "      <td>0.01</td>\n",
       "    </tr>\n",
       "    <tr>\n",
       "      <th>3</th>\n",
       "      <td>SALI</td>\n",
       "      <td>QLDGovernment</td>\n",
       "      <td>QLDGovernment</td>\n",
       "      <td>QLD_NWREC_33_1</td>\n",
       "      <td>5.0</td>\n",
       "      <td>5.0</td>\n",
       "      <td>05-12-2008</td>\n",
       "      <td>138.337753</td>\n",
       "      <td>-17.44456</td>\n",
       "      <td>0.8</td>\n",
       "      <td>...</td>\n",
       "      <td>10A1</td>\n",
       "      <td>total sulfur - x-ray fluorescence</td>\n",
       "      <td>total s xrf</td>\n",
       "      <td>SALI</td>\n",
       "      <td>11-Mar-03</td>\n",
       "      <td>SALI</td>\n",
       "      <td>11-Mar-03</td>\n",
       "      <td>%</td>\n",
       "      <td>(138.337753, -17.44456)</td>\n",
       "      <td>0.01</td>\n",
       "    </tr>\n",
       "    <tr>\n",
       "      <th>4</th>\n",
       "      <td>SALI</td>\n",
       "      <td>QLDGovernment</td>\n",
       "      <td>QLDGovernment</td>\n",
       "      <td>QLD_NWREC_33_1</td>\n",
       "      <td>2.0</td>\n",
       "      <td>2.0</td>\n",
       "      <td>27-11-2008</td>\n",
       "      <td>138.337753</td>\n",
       "      <td>-17.44456</td>\n",
       "      <td>0.0</td>\n",
       "      <td>...</td>\n",
       "      <td>15A1_K</td>\n",
       "      <td>exchangeable bases (k+) - 1m ammonium chloride...</td>\n",
       "      <td>exch k - nh4cl no wash</td>\n",
       "      <td>SALI</td>\n",
       "      <td>11-Mar-03</td>\n",
       "      <td>SALI</td>\n",
       "      <td>15-Jun-21</td>\n",
       "      <td>cmol_c/kg</td>\n",
       "      <td>(138.337753, -17.44456)</td>\n",
       "      <td>0.08</td>\n",
       "    </tr>\n",
       "  </tbody>\n",
       "</table>\n",
       "<p>5 rows × 30 columns</p>\n",
       "</div>"
      ],
      "text/plain": [
       "  DataStore        Dataset       Provider     Location_ID  Layer_ID  SampleID  \\\n",
       "0      SALI  QLDGovernment  QLDGovernment  QLD_NWREC_33_1       2.0       2.0   \n",
       "1      SALI  QLDGovernment  QLDGovernment  QLD_NWREC_33_1       3.0       3.0   \n",
       "2      SALI  QLDGovernment  QLDGovernment  QLD_NWREC_33_1       4.0       4.0   \n",
       "3      SALI  QLDGovernment  QLDGovernment  QLD_NWREC_33_1       5.0       5.0   \n",
       "4      SALI  QLDGovernment  QLDGovernment  QLD_NWREC_33_1       2.0       2.0   \n",
       "\n",
       "   SampleDate   Longitude  Latitude  UpperDepth  ...  LAB_METH_CODE  \\\n",
       "0  05-12-2008  138.337753 -17.44456         0.0  ...           10A1   \n",
       "1  05-12-2008  138.337753 -17.44456         0.2  ...           10A1   \n",
       "2  05-12-2008  138.337753 -17.44456         0.5  ...           10A1   \n",
       "3  05-12-2008  138.337753 -17.44456         0.8  ...           10A1   \n",
       "4  27-11-2008  138.337753 -17.44456         0.0  ...         15A1_K   \n",
       "\n",
       "                                       LAB_METH_NAME     LAB_METH_SHORT_NAME  \\\n",
       "0                  total sulfur - x-ray fluorescence             total s xrf   \n",
       "1                  total sulfur - x-ray fluorescence             total s xrf   \n",
       "2                  total sulfur - x-ray fluorescence             total s xrf   \n",
       "3                  total sulfur - x-ray fluorescence             total s xrf   \n",
       "4  exchangeable bases (k+) - 1m ammonium chloride...  exch k - nh4cl no wash   \n",
       "\n",
       "  CREATED_BY  CREATION_DATE  LAST_UPDATED_BY  LAST_UPDATE_DATE      UNITS  \\\n",
       "0       SALI      11-Mar-03             SALI         11-Mar-03          %   \n",
       "1       SALI      11-Mar-03             SALI         11-Mar-03          %   \n",
       "2       SALI      11-Mar-03             SALI         11-Mar-03          %   \n",
       "3       SALI      11-Mar-03             SALI         11-Mar-03          %   \n",
       "4       SALI      11-Mar-03             SALI         15-Jun-21  cmol_c/kg   \n",
       "\n",
       "              tup_long_lat float_values  \n",
       "0  (138.337753, -17.44456)         0.01  \n",
       "1  (138.337753, -17.44456)         0.01  \n",
       "2  (138.337753, -17.44456)         0.01  \n",
       "3  (138.337753, -17.44456)         0.01  \n",
       "4  (138.337753, -17.44456)         0.08  \n",
       "\n",
       "[5 rows x 30 columns]"
      ]
     },
     "execution_count": 98,
     "metadata": {},
     "output_type": "execute_result"
    }
   ],
   "source": [
    "file.head()"
   ]
  },
  {
   "cell_type": "code",
   "execution_count": 176,
   "metadata": {},
   "outputs": [],
   "source": [
    "names = file['LAB_METH_CODE']\n",
    "types = names.unique()"
   ]
  },
  {
   "cell_type": "code",
   "execution_count": 177,
   "metadata": {},
   "outputs": [
    {
     "data": {
      "text/plain": [
       "array(['10A1', '15C1_CEC', '15C1_K', '15N1', '17A1', '2A1', '2Z2_Clay',\n",
       "       '2Z2_CS', '2Z2_FS', '2Z2_Silt', '3A1', '503.01a', '5A2', '6B5',\n",
       "       '7B1', '9A1', nan], dtype=object)"
      ]
     },
     "execution_count": 177,
     "metadata": {},
     "output_type": "execute_result"
    }
   ],
   "source": [
    "types"
   ]
  },
  {
   "cell_type": "code",
   "execution_count": 128,
   "metadata": {},
   "outputs": [
    {
     "data": {
      "text/plain": [
       "False"
      ]
     },
     "execution_count": 128,
     "metadata": {},
     "output_type": "execute_result"
    }
   ],
   "source": [
    "'ec - 1:5 water' in names"
   ]
  },
  {
   "cell_type": "code",
   "execution_count": null,
   "metadata": {},
   "outputs": [],
   "source": []
  },
  {
   "cell_type": "code",
   "execution_count": 119,
   "metadata": {},
   "outputs": [
    {
     "data": {
      "text/html": [
       "<div>\n",
       "<style scoped>\n",
       "    .dataframe tbody tr th:only-of-type {\n",
       "        vertical-align: middle;\n",
       "    }\n",
       "\n",
       "    .dataframe tbody tr th {\n",
       "        vertical-align: top;\n",
       "    }\n",
       "\n",
       "    .dataframe thead th {\n",
       "        text-align: right;\n",
       "    }\n",
       "</style>\n",
       "<table border=\"1\" class=\"dataframe\">\n",
       "  <thead>\n",
       "    <tr style=\"text-align: right;\">\n",
       "      <th></th>\n",
       "      <th>DataStore</th>\n",
       "      <th>Dataset</th>\n",
       "      <th>Provider</th>\n",
       "      <th>Location_ID</th>\n",
       "      <th>Layer_ID</th>\n",
       "      <th>SampleID</th>\n",
       "      <th>SampleDate</th>\n",
       "      <th>Longitude</th>\n",
       "      <th>Latitude</th>\n",
       "      <th>UpperDepth</th>\n",
       "      <th>...</th>\n",
       "      <th>LAB_METH_CODE</th>\n",
       "      <th>LAB_METH_NAME</th>\n",
       "      <th>LAB_METH_SHORT_NAME</th>\n",
       "      <th>CREATED_BY</th>\n",
       "      <th>CREATION_DATE</th>\n",
       "      <th>LAST_UPDATED_BY</th>\n",
       "      <th>LAST_UPDATE_DATE</th>\n",
       "      <th>UNITS</th>\n",
       "      <th>tup_long_lat</th>\n",
       "      <th>float_values</th>\n",
       "    </tr>\n",
       "  </thead>\n",
       "  <tbody>\n",
       "  </tbody>\n",
       "</table>\n",
       "<p>0 rows × 30 columns</p>\n",
       "</div>"
      ],
      "text/plain": [
       "Empty DataFrame\n",
       "Columns: [DataStore, Dataset, Provider, Location_ID, Layer_ID, SampleID, SampleDate, Longitude, Latitude, UpperDepth, LowerDepth, PropertyType, ObservedProperty, Value, Units, QualCollection, QualSpatialAggregation, QualManagement, QualSpatialAccuracy, ExtractTime, LAB_METH_CODE, LAB_METH_NAME, LAB_METH_SHORT_NAME, CREATED_BY, CREATION_DATE, LAST_UPDATED_BY, LAST_UPDATE_DATE, UNITS, tup_long_lat, float_values]\n",
       "Index: []\n",
       "\n",
       "[0 rows x 30 columns]"
      ]
     },
     "execution_count": 119,
     "metadata": {},
     "output_type": "execute_result"
    }
   ],
   "source": [
    "file[file['LAB_METH_SHORT_NAME'] == 'cl - 1']"
   ]
  },
  {
   "cell_type": "code",
   "execution_count": 170,
   "metadata": {},
   "outputs": [],
   "source": [
    "currloc = 'C:\\\\Users\\\\siddh\\\\Desktop\\\\DES\\\\Spline Files\\\\'\n",
    "newloc = 'C:\\\\Users\\\\siddh\\\\Desktop\\\\DES\\\\Multiple Split Files\\\\'\n",
    "start = 1 \n",
    "ext = '.csv'"
   ]
  },
  {
   "cell_type": "code",
   "execution_count": null,
   "metadata": {},
   "outputs": [],
   "source": []
  },
  {
   "cell_type": "code",
   "execution_count": 187,
   "metadata": {},
   "outputs": [
    {
     "name": "stderr",
     "output_type": "stream",
     "text": [
      "<ipython-input-187-694d3f97fa14>:13: SettingWithCopyWarning: \n",
      "A value is trying to be set on a copy of a slice from a DataFrame.\n",
      "Try using .loc[row_indexer,col_indexer] = value instead\n",
      "\n",
      "See the caveats in the documentation: https://pandas.pydata.org/pandas-docs/stable/user_guide/indexing.html#returning-a-view-versus-a-copy\n",
      "  filt['SoilProfile'] = i\n"
     ]
    }
   ],
   "source": [
    "for i in range(1,370): \n",
    "    \n",
    "    file = pd.read_csv(currloc + str(i) + ext)\n",
    "    \n",
    "    path = os.path.join(newloc, 'Soil '+str(i))\n",
    "    os.mkdir(path)\n",
    "    \n",
    "    names = file['LAB_METH_CODE']\n",
    "    types = names.unique()\n",
    "    \n",
    "    for j in types: \n",
    "        filt = file.loc[file['LAB_METH_CODE'] == j]\n",
    "        filt['SoilProfile'] = i\n",
    "        filt.to_csv(newloc+'Soil '+str(i)+'\\\\'+str(j)+ext, index = False)\n",
    "        \n",
    "    #file.to_csv(newloc+'Soil '+str(i)+'\\\\'+str(i)+ext, index = False)\n",
    "        \n",
    "    \n",
    "    \n",
    "    \n",
    "    "
   ]
  },
  {
   "cell_type": "code",
   "execution_count": 169,
   "metadata": {},
   "outputs": [],
   "source": [
    "for j in types: \n",
    "        filt = file.loc[file['LAB_METH_CODE'] == j]\n",
    "        \n",
    "        filt.to_csv(newloc+'Soil '+str(1)+'\\\\'+j+ext)"
   ]
  },
  {
   "cell_type": "code",
   "execution_count": 168,
   "metadata": {},
   "outputs": [
    {
     "data": {
      "text/plain": [
       "'C:\\\\Users\\\\siddh\\\\Desktop\\\\DES\\\\Multiple Split Files\\\\'"
      ]
     },
     "execution_count": 168,
     "metadata": {},
     "output_type": "execute_result"
    }
   ],
   "source": [
    "newloc"
   ]
  },
  {
   "cell_type": "code",
   "execution_count": 160,
   "metadata": {},
   "outputs": [],
   "source": [
    "s1 = '/'\n",
    "s2 = '<'\n",
    "s3 = '>'\n",
    "s4 = ':'\n",
    "s5 = '*'\n",
    "s6 = '?'\n",
    "s7 = '|'\n",
    "s8 = '\"'\n",
    "s9 = \"\\\\\""
   ]
  },
  {
   "cell_type": "code",
   "execution_count": 175,
   "metadata": {},
   "outputs": [
    {
     "data": {
      "text/plain": [
       "82"
      ]
     },
     "execution_count": 175,
     "metadata": {},
     "output_type": "execute_result"
    }
   ],
   "source": [
    "file = pd.read_csv(currloc + str(4) + ext)\n",
    "len(file)"
   ]
  },
  {
   "cell_type": "code",
   "execution_count": 184,
   "metadata": {},
   "outputs": [
    {
     "data": {
      "text/plain": [
       "79    9A1\n",
       "80    9A1\n",
       "81    NaN\n",
       "Name: LAB_METH_CODE, dtype: object"
      ]
     },
     "execution_count": 184,
     "metadata": {},
     "output_type": "execute_result"
    }
   ],
   "source": [
    "file[79:82]['LAB_METH_CODE']"
   ]
  },
  {
   "cell_type": "code",
   "execution_count": null,
   "metadata": {},
   "outputs": [],
   "source": []
  },
  {
   "cell_type": "code",
   "execution_count": null,
   "metadata": {},
   "outputs": [],
   "source": []
  },
  {
   "cell_type": "code",
   "execution_count": null,
   "metadata": {},
   "outputs": [],
   "source": []
  },
  {
   "cell_type": "code",
   "execution_count": null,
   "metadata": {},
   "outputs": [],
   "source": []
  },
  {
   "cell_type": "code",
   "execution_count": null,
   "metadata": {},
   "outputs": [],
   "source": []
  },
  {
   "cell_type": "code",
   "execution_count": null,
   "metadata": {},
   "outputs": [],
   "source": []
  },
  {
   "cell_type": "code",
   "execution_count": null,
   "metadata": {},
   "outputs": [],
   "source": []
  },
  {
   "cell_type": "code",
   "execution_count": null,
   "metadata": {},
   "outputs": [],
   "source": []
  },
  {
   "cell_type": "code",
   "execution_count": null,
   "metadata": {},
   "outputs": [],
   "source": []
  },
  {
   "cell_type": "code",
   "execution_count": null,
   "metadata": {},
   "outputs": [],
   "source": []
  },
  {
   "cell_type": "code",
   "execution_count": null,
   "metadata": {},
   "outputs": [],
   "source": []
  }
 ],
 "metadata": {
  "kernelspec": {
   "display_name": "Python 3",
   "language": "python",
   "name": "python3"
  },
  "language_info": {
   "codemirror_mode": {
    "name": "ipython",
    "version": 3
   },
   "file_extension": ".py",
   "mimetype": "text/x-python",
   "name": "python",
   "nbconvert_exporter": "python",
   "pygments_lexer": "ipython3",
   "version": "3.8.5"
  }
 },
 "nbformat": 4,
 "nbformat_minor": 4
}
