{
 "cells": [
  {
   "cell_type": "code",
   "execution_count": 1,
   "metadata": {},
   "outputs": [],
   "source": [
    "import csv \n",
    "import pandas as pd \n",
    "import numpy as np \n",
    "import requests"
   ]
  },
  {
   "cell_type": "code",
   "execution_count": 2,
   "metadata": {},
   "outputs": [],
   "source": []
  },
  {
   "cell_type": "code",
   "execution_count": 2,
   "metadata": {},
   "outputs": [],
   "source": [
    "file = pd.read_csv('C:\\\\Users\\\\siddh\\\\Desktop\\\\DES\\\\Soil DataFederator\\\\StandardProperties(True).csv')"
   ]
  },
  {
   "cell_type": "code",
   "execution_count": 3,
   "metadata": {},
   "outputs": [
    {
     "data": {
      "text/html": [
       "<div>\n",
       "<style scoped>\n",
       "    .dataframe tbody tr th:only-of-type {\n",
       "        vertical-align: middle;\n",
       "    }\n",
       "\n",
       "    .dataframe tbody tr th {\n",
       "        vertical-align: top;\n",
       "    }\n",
       "\n",
       "    .dataframe thead th {\n",
       "        text-align: right;\n",
       "    }\n",
       "</style>\n",
       "<table border=\"1\" class=\"dataframe\">\n",
       "  <thead>\n",
       "    <tr style=\"text-align: right;\">\n",
       "      <th></th>\n",
       "      <th>Property</th>\n",
       "      <th>PropertyType</th>\n",
       "      <th>PropertyGroup</th>\n",
       "      <th>Description</th>\n",
       "      <th>TableName</th>\n",
       "      <th>DataType</th>\n",
       "      <th>VocabURL</th>\n",
       "    </tr>\n",
       "  </thead>\n",
       "  <tbody>\n",
       "    <tr>\n",
       "      <th>0</th>\n",
       "      <td>10_BC</td>\n",
       "      <td>LaboratoryMeasurement</td>\n",
       "      <td>SULFUR</td>\n",
       "      <td>Bicarbonate-extractable sulfur. Keay, Menage a...</td>\n",
       "      <td>LAB_METHODS</td>\n",
       "      <td>FLOAT</td>\n",
       "      <td>http://anzsoil.org/def/au/scma/10</td>\n",
       "    </tr>\n",
       "    <tr>\n",
       "      <th>1</th>\n",
       "      <td>10A_NR</td>\n",
       "      <td>LaboratoryMeasurement</td>\n",
       "      <td>SULFUR</td>\n",
       "      <td>Total sulfur - S(%) - Not recorded</td>\n",
       "      <td>LAB_METHODS</td>\n",
       "      <td>FLOAT</td>\n",
       "      <td>http://anzsoil.org/def/au/scma/10</td>\n",
       "    </tr>\n",
       "    <tr>\n",
       "      <th>2</th>\n",
       "      <td>10A1</td>\n",
       "      <td>LaboratoryMeasurement</td>\n",
       "      <td>SULFUR</td>\n",
       "      <td>Total sulfur - S(%) - X-ray fluorescence</td>\n",
       "      <td>LAB_METHODS</td>\n",
       "      <td>FLOAT</td>\n",
       "      <td>http://anzsoil.org/def/au/scma/10A1</td>\n",
       "    </tr>\n",
       "    <tr>\n",
       "      <th>3</th>\n",
       "      <td>10A3</td>\n",
       "      <td>LaboratoryMeasurement</td>\n",
       "      <td>SULFUR</td>\n",
       "      <td>NaN</td>\n",
       "      <td>LAB_METHODS</td>\n",
       "      <td>FLOAT</td>\n",
       "      <td>http://anzsoil.org/def/au/scma/10</td>\n",
       "    </tr>\n",
       "    <tr>\n",
       "      <th>4</th>\n",
       "      <td>10B</td>\n",
       "      <td>LaboratoryMeasurement</td>\n",
       "      <td>SULFUR</td>\n",
       "      <td>Extractable sulfur (mg/kg) - Phosphate extract...</td>\n",
       "      <td>LAB_METHODS</td>\n",
       "      <td>FLOAT</td>\n",
       "      <td>http://anzsoil.org/def/au/scma/10B</td>\n",
       "    </tr>\n",
       "  </tbody>\n",
       "</table>\n",
       "</div>"
      ],
      "text/plain": [
       "  Property           PropertyType PropertyGroup  \\\n",
       "0    10_BC  LaboratoryMeasurement        SULFUR   \n",
       "1   10A_NR  LaboratoryMeasurement        SULFUR   \n",
       "2     10A1  LaboratoryMeasurement        SULFUR   \n",
       "3     10A3  LaboratoryMeasurement        SULFUR   \n",
       "4      10B  LaboratoryMeasurement        SULFUR   \n",
       "\n",
       "                                         Description    TableName DataType  \\\n",
       "0  Bicarbonate-extractable sulfur. Keay, Menage a...  LAB_METHODS    FLOAT   \n",
       "1                 Total sulfur - S(%) - Not recorded  LAB_METHODS    FLOAT   \n",
       "2           Total sulfur - S(%) - X-ray fluorescence  LAB_METHODS    FLOAT   \n",
       "3                                                NaN  LAB_METHODS    FLOAT   \n",
       "4  Extractable sulfur (mg/kg) - Phosphate extract...  LAB_METHODS    FLOAT   \n",
       "\n",
       "                              VocabURL  \n",
       "0    http://anzsoil.org/def/au/scma/10  \n",
       "1    http://anzsoil.org/def/au/scma/10  \n",
       "2  http://anzsoil.org/def/au/scma/10A1  \n",
       "3    http://anzsoil.org/def/au/scma/10  \n",
       "4   http://anzsoil.org/def/au/scma/10B  "
      ]
     },
     "execution_count": 3,
     "metadata": {},
     "output_type": "execute_result"
    }
   ],
   "source": [
    "file.head()"
   ]
  },
  {
   "cell_type": "code",
   "execution_count": 4,
   "metadata": {},
   "outputs": [
    {
     "name": "stdout",
     "output_type": "stream",
     "text": [
      "10_BC\n"
     ]
    }
   ],
   "source": [
    "pgs = file.Property.unique()\n",
    "pgs\n",
    "\n",
    "for i in pgs: \n",
    "    print(i)\n",
    "    break\n",
    "    "
   ]
  },
  {
   "cell_type": "code",
   "execution_count": 120,
   "metadata": {},
   "outputs": [],
   "source": [
    "c = \"10_BC\"\n",
    "url = \"http://esoil.io/TERNLandscapes/SoilDataFederatoR/SoilDataAPI/SoilData?observedPropertyGroup=\"+c+\"&format=csv&usr=s.krishnakumar%40uqconnect.edu.au&key=Z8PqpoECDb\"\n",
    "\n",
    "url1= \"http://esoil.io/TERNLandscapes/SoilDataFederatoR/SoilDataAPI/SoilData?observedProperty=\"+str(c)+\"&format=csv&usr=s.krishnakumar%40uqconnect.edu.au&key=Z8PqpoECDb\"\n",
    "\n",
    "\n",
    "req = requests.get(url1)"
   ]
  },
  {
   "cell_type": "code",
   "execution_count": 121,
   "metadata": {},
   "outputs": [],
   "source": [
    "name = \"10_BC.csv\""
   ]
  },
  {
   "cell_type": "code",
   "execution_count": 122,
   "metadata": {},
   "outputs": [],
   "source": [
    "with open(name, 'wb') as f: \n",
    "    for chunk in req.iter_content(chunk_size = 8192): \n",
    "        if chunk: \n",
    "            f.write(chunk)"
   ]
  },
  {
   "cell_type": "code",
   "execution_count": 33,
   "metadata": {},
   "outputs": [],
   "source": [
    "name = \"GYPSUM.csv\"\n",
    "url = \"http://esoil.io/TERNLandscapes/SoilDataFederatoR/SoilDataAPI/SoilData?observedPropertyGroup=GYPSUM&format=csv&usr=s.krishnakumar%40uqconnect.edu.au&key=Z8PqpoECDb\"\n",
    "\n",
    "\n",
    "\n",
    "def download(url, filename): \n",
    "    try:\n",
    "        req = requests.get(url)\n",
    "            with open(name, 'wb') as f: \n",
    "                for chunk in req.iter_content(chunk_size = 8192): \n",
    "                    if chunk: \n",
    "                        f.write(chunk)\n",
    "            return filename\n",
    "    except Exception as e: \n",
    "        print(e)\n",
    "        return None"
   ]
  },
  {
   "cell_type": "code",
   "execution_count": 38,
   "metadata": {},
   "outputs": [
    {
     "name": "stdout",
     "output_type": "stream",
     "text": [
      "[Errno 13] Permission denied: 'VEG_STRATA.csv'\n"
     ]
    }
   ],
   "source": [
    "i = \"SULFUR\"\n",
    "fileName = i+\"1.csv\"\n",
    "url1 = \"http://esoil.io/TERNLandscapes/SoilDataFederatoR/SoilDataAPI/SoilData?observedPropertyGroup=\"+i+\"&format=csv&usr=s.krishnakumar%40uqconnect.edu.au&key=Z8PqpoECDb\"\n",
    "\n",
    "\n",
    "\n",
    "download(url1,fileName)"
   ]
  },
  {
   "cell_type": "code",
   "execution_count": 15,
   "metadata": {},
   "outputs": [
    {
     "ename": "OSError",
     "evalue": "[Errno 22] Invalid argument: '>2mm.csv'",
     "output_type": "error",
     "traceback": [
      "\u001b[1;31m---------------------------------------------------------------------------\u001b[0m",
      "\u001b[1;31mOSError\u001b[0m                                   Traceback (most recent call last)",
      "\u001b[1;32m<ipython-input-15-4fafeb330643>\u001b[0m in \u001b[0;36m<module>\u001b[1;34m\u001b[0m\n\u001b[0;32m     15\u001b[0m     \u001b[0mreq\u001b[0m \u001b[1;33m=\u001b[0m \u001b[0mrequests\u001b[0m\u001b[1;33m.\u001b[0m\u001b[0mget\u001b[0m\u001b[1;33m(\u001b[0m\u001b[0murl\u001b[0m\u001b[1;33m)\u001b[0m\u001b[1;33m\u001b[0m\u001b[1;33m\u001b[0m\u001b[0m\n\u001b[0;32m     16\u001b[0m \u001b[1;33m\u001b[0m\u001b[0m\n\u001b[1;32m---> 17\u001b[1;33m     \u001b[1;32mwith\u001b[0m \u001b[0mopen\u001b[0m\u001b[1;33m(\u001b[0m\u001b[0mname\u001b[0m\u001b[1;33m,\u001b[0m \u001b[1;34m'wb'\u001b[0m\u001b[1;33m)\u001b[0m \u001b[1;32mas\u001b[0m \u001b[0mf\u001b[0m\u001b[1;33m:\u001b[0m\u001b[1;33m\u001b[0m\u001b[1;33m\u001b[0m\u001b[0m\n\u001b[0m\u001b[0;32m     18\u001b[0m         \u001b[1;32mfor\u001b[0m \u001b[0mchunk\u001b[0m \u001b[1;32min\u001b[0m \u001b[0mreq\u001b[0m\u001b[1;33m.\u001b[0m\u001b[0miter_content\u001b[0m\u001b[1;33m(\u001b[0m\u001b[0mchunk_size\u001b[0m \u001b[1;33m=\u001b[0m \u001b[1;36m30000\u001b[0m\u001b[1;33m)\u001b[0m\u001b[1;33m:\u001b[0m\u001b[1;33m\u001b[0m\u001b[1;33m\u001b[0m\u001b[0m\n\u001b[0;32m     19\u001b[0m             \u001b[1;32mif\u001b[0m \u001b[0mchunk\u001b[0m\u001b[1;33m:\u001b[0m\u001b[1;33m\u001b[0m\u001b[1;33m\u001b[0m\u001b[0m\n",
      "\u001b[1;31mOSError\u001b[0m: [Errno 22] Invalid argument: '>2mm.csv'"
     ]
    }
   ],
   "source": [
    "for i in no_spaces4[78:]: \n",
    "    \n",
    "    \n",
    "    # FILE NUMBER 784 in no_spaces4 has been skipped. \n",
    "    \n",
    "    \n",
    "    \n",
    "    #Below: Property Group\n",
    "    #url = \"http://esoil.io/TERNLandscapes/SoilDataFederatoR/SoilDataAPI/SoilData?observedPropertyGroup=\"+str(i)+\"&format=csv&usr=s.krishnakumar%40uqconnect.edu.au&key=Z8PqpoECDb\"\n",
    "    \n",
    "    #Below: Property \n",
    "    url = \"http://esoil.io/TERNLandscapes/SoilDataFederatoR/SoilDataAPI/SoilData?observedProperty=\"+str(i)+\"&format=csv&usr=s.krishnakumar%40uqconnect.edu.au&key=Z8PqpoECDb\"\n",
    "\n",
    "    name = str(i)+\".csv\"\n",
    "    req = requests.get(url)\n",
    "    \n",
    "    with open(name, 'wb') as f: \n",
    "        for chunk in req.iter_content(chunk_size = 30000): \n",
    "            if chunk: \n",
    "                f.write(chunk)\n",
    "    "
   ]
  },
  {
   "cell_type": "code",
   "execution_count": 5,
   "metadata": {},
   "outputs": [],
   "source": [
    "no_spaces = []\n",
    "spaces = []\n",
    "check = 0\n",
    "for i in pgs:\n",
    "    check = 0\n",
    "    for j in str(i): \n",
    "        if (j == ' '): \n",
    "            check = 1\n",
    "    if (check == 0): \n",
    "        no_spaces.extend([i])\n",
    "        \n",
    "    else: \n",
    "        spaces.extend(str(i))"
   ]
  },
  {
   "cell_type": "code",
   "execution_count": null,
   "metadata": {},
   "outputs": [],
   "source": []
  },
  {
   "cell_type": "code",
   "execution_count": null,
   "metadata": {},
   "outputs": [],
   "source": []
  },
  {
   "cell_type": "code",
   "execution_count": null,
   "metadata": {},
   "outputs": [],
   "source": []
  },
  {
   "cell_type": "code",
   "execution_count": null,
   "metadata": {},
   "outputs": [],
   "source": []
  },
  {
   "cell_type": "code",
   "execution_count": null,
   "metadata": {},
   "outputs": [],
   "source": []
  },
  {
   "cell_type": "code",
   "execution_count": null,
   "metadata": {},
   "outputs": [],
   "source": []
  },
  {
   "cell_type": "code",
   "execution_count": 10,
   "metadata": {},
   "outputs": [],
   "source": []
  },
  {
   "cell_type": "code",
   "execution_count": 11,
   "metadata": {},
   "outputs": [],
   "source": []
  },
  {
   "cell_type": "code",
   "execution_count": null,
   "metadata": {},
   "outputs": [],
   "source": []
  },
  {
   "cell_type": "code",
   "execution_count": null,
   "metadata": {},
   "outputs": [],
   "source": []
  }
 ],
 "metadata": {
  "kernelspec": {
   "display_name": "Python 3",
   "language": "python",
   "name": "python3"
  },
  "language_info": {
   "codemirror_mode": {
    "name": "ipython",
    "version": 3
   },
   "file_extension": ".py",
   "mimetype": "text/x-python",
   "name": "python",
   "nbconvert_exporter": "python",
   "pygments_lexer": "ipython3",
   "version": "3.8.5"
  }
 },
 "nbformat": 4,
 "nbformat_minor": 4
}
