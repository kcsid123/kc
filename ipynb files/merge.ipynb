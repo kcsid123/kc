{
 "cells": [
  {
   "cell_type": "code",
   "execution_count": 42,
   "metadata": {},
   "outputs": [],
   "source": [
    "import csv \n",
    "import pandas as pd \n",
    "import numpy as np \n",
    "import requests\n",
    "import os\n",
    "from glob import glob"
   ]
  },
  {
   "cell_type": "code",
   "execution_count": 140,
   "metadata": {},
   "outputs": [],
   "source": [
    "master_df = pd.DataFrame()\n",
    "\n"
   ]
  },
  {
   "cell_type": "code",
   "execution_count": 30,
   "metadata": {},
   "outputs": [
    {
     "name": "stdout",
     "output_type": "stream",
     "text": [
      "C:\\Users\\siddh\\DES\n"
     ]
    }
   ],
   "source": [
    "print(os.getcwd())"
   ]
  },
  {
   "cell_type": "code",
   "execution_count": 31,
   "metadata": {},
   "outputs": [
    {
     "name": "stdout",
     "output_type": "stream",
     "text": [
      "C:\\\\Users\\\\siddh\\\\DES\\\\Sample Folder\n"
     ]
    }
   ],
   "source": [
    "print(path)"
   ]
  },
  {
   "cell_type": "code",
   "execution_count": 36,
   "metadata": {},
   "outputs": [
    {
     "name": "stdout",
     "output_type": "stream",
     "text": [
      "1.20E+02.csv\n",
      "1.40E+02.csv\n"
     ]
    }
   ],
   "source": [
    "for file in os.listdir(path): \n",
    "    if (file.endswith('.csv')):\n",
    "        print(file)"
   ]
  },
  {
   "cell_type": "code",
   "execution_count": 221,
   "metadata": {},
   "outputs": [],
   "source": [
    "path1 = 'C:\\\\Users\\\\siddh\\\\DES\\\\Sample Folder\\\\1.20E+02.csv'\n",
    "path2 = 'C:\\\\Users\\\\siddh\\\\DES\\\\Sample Folder\\\\TE_NR_AL.csv'\n",
    "\n",
    "x = []"
   ]
  },
  {
   "cell_type": "code",
   "execution_count": 222,
   "metadata": {},
   "outputs": [],
   "source": [
    "f1 = pd.read_csv(path1)\n",
    "f2 = pd.read_csv(path2)"
   ]
  },
  {
   "cell_type": "code",
   "execution_count": 223,
   "metadata": {},
   "outputs": [
    {
     "data": {
      "text/plain": [
       "['348']"
      ]
     },
     "execution_count": 223,
     "metadata": {},
     "output_type": "execute_result"
    }
   ],
   "source": [
    "str(f2.shape[0])\n",
    "x.append(str(f2.shape[0]))\n",
    "\n",
    "x"
   ]
  },
  {
   "cell_type": "code",
   "execution_count": 224,
   "metadata": {},
   "outputs": [],
   "source": [
    "f2.head()\n",
    "\n",
    "l = [path1, path2]\n",
    "\n",
    "df1 = pd.DataFrame()\n",
    "check = 0"
   ]
  },
  {
   "cell_type": "markdown",
   "metadata": {},
   "source": [
    "# File Merging is here, along with each file length"
   ]
  },
  {
   "cell_type": "code",
   "execution_count": 242,
   "metadata": {},
   "outputs": [],
   "source": [
    "path = r'C:\\Users\\siddh\\DES\\Copy Folder'\n",
    "file_lengths = []"
   ]
  },
  {
   "cell_type": "code",
   "execution_count": 244,
   "metadata": {},
   "outputs": [
    {
     "name": "stdout",
     "output_type": "stream",
     "text": [
      "Here!\n"
     ]
    }
   ],
   "source": [
    "check = 0\n",
    "\n",
    "iterations = 0 \n",
    "for file in os.listdir(path):\n",
    "    iterations += 1\n",
    "    \n",
    "    if (file.endswith('.csv')):\n",
    "        here = path + '\\\\' + file\n",
    "        \n",
    "        df = pd.read_csv(here)\n",
    "        \n",
    "        file_lengths.append(df.shape[0])\n",
    "        \n",
    "        if (check == 0): \n",
    "            #df.head()\n",
    "            df.to_csv('MASTER.csv' ,mode = 'a',header = True, index = False)\n",
    "            check += 1\n",
    "            print('Here!')\n",
    "        else:\n",
    "            df.to_csv('MASTER.csv', mode = 'a', header = False, index = False)"
   ]
  },
  {
   "cell_type": "code",
   "execution_count": 248,
   "metadata": {},
   "outputs": [
    {
     "name": "stdout",
     "output_type": "stream",
     "text": [
      "True\n"
     ]
    }
   ],
   "source": [
    "path = r'C:\\Users\\siddh\\DES\\MASTER.csv'\n",
    "\n",
    "ms = pd.read_csv(path)\n",
    "\n",
    "print(ms.shape[0] == sum(file_lengths))"
   ]
  },
  {
   "cell_type": "markdown",
   "metadata": {},
   "source": [
    "# FILE Merging ends here"
   ]
  },
  {
   "cell_type": "code",
   "execution_count": 146,
   "metadata": {},
   "outputs": [
    {
     "name": "stdout",
     "output_type": "stream",
     "text": [
      "   DataStore  Dataset  Provider  Location_ID  Layer_ID  SampleID  SampleDate  \\\n",
      "0          1        2         3            4         5         6           7   \n",
      "1          1        2         3            4         5         6           7   \n",
      "\n",
      "   Longitude  Latitude  UpperDepth  LowerDepth  PropertyType  \\\n",
      "0          8         9           0          11            12   \n",
      "1          8         9           0          11            12   \n",
      "\n",
      "   ObservedProperty  Value  Units  QualCollection  QualSpatialAggregation  \\\n",
      "0                13     14     15              16                      17   \n",
      "1                13     14     15              16                      17   \n",
      "\n",
      "   QualManagement  QualSpatialAccuracy  ExtractTime  \n",
      "0              18                   19           20  \n",
      "1              18                   19           20  \n",
      "Here\n",
      "\n",
      "\n",
      "\n",
      "\n",
      "\n",
      "\n",
      "\n",
      "\n",
      "\n",
      "\n",
      "  DataStore Dataset Provider Location_ID Layer_ID SampleID SampleDate  \\\n",
      "0         a       b        c           d        e        f          g   \n",
      "1         a       b        c           d        e        f          g   \n",
      "\n",
      "  Longitude Latitude UpperDepth LowerDepth PropertyType ObservedProperty  \\\n",
      "0         h        i          j          k            l                m   \n",
      "1         h        i          j          k            l                m   \n",
      "\n",
      "  Value Units QualCollection QualSpatialAggregation QualManagement  \\\n",
      "0     n     o              p                      q              r   \n",
      "1     n     o              p                      q              r   \n",
      "\n",
      "  QualSpatialAccuracy ExtractTime  \n",
      "0                   s           t  \n",
      "1                   s           t  \n",
      "Here\n",
      "\n",
      "\n",
      "\n",
      "\n",
      "\n",
      "\n",
      "\n",
      "\n",
      "\n",
      "\n"
     ]
    }
   ],
   "source": [
    "for file in os.listdir(path): \n",
    "    f1 = path + '\\\\' + file\n",
    "    q = pd.read_csv(f1)\n",
    "    print(q.head())\n",
    "    print('Here')\n",
    "    print('\\n\\n\\n\\n\\n\\n\\n\\n\\n')"
   ]
  },
  {
   "cell_type": "code",
   "execution_count": 141,
   "metadata": {},
   "outputs": [
    {
     "data": {
      "text/plain": [
       "'C:\\\\Users\\\\siddh\\\\DES\\\\Sample Folder'"
      ]
     },
     "execution_count": 141,
     "metadata": {},
     "output_type": "execute_result"
    }
   ],
   "source": [
    "path"
   ]
  },
  {
   "cell_type": "code",
   "execution_count": null,
   "metadata": {},
   "outputs": [],
   "source": [
    "\n"
   ]
  },
  {
   "cell_type": "code",
   "execution_count": 106,
   "metadata": {},
   "outputs": [],
   "source": []
  },
  {
   "cell_type": "code",
   "execution_count": 109,
   "metadata": {},
   "outputs": [],
   "source": []
  },
  {
   "cell_type": "code",
   "execution_count": null,
   "metadata": {},
   "outputs": [],
   "source": []
  },
  {
   "cell_type": "code",
   "execution_count": null,
   "metadata": {},
   "outputs": [],
   "source": []
  },
  {
   "cell_type": "code",
   "execution_count": null,
   "metadata": {},
   "outputs": [],
   "source": []
  },
  {
   "cell_type": "code",
   "execution_count": null,
   "metadata": {},
   "outputs": [],
   "source": []
  }
 ],
 "metadata": {
  "kernelspec": {
   "display_name": "Python 3",
   "language": "python",
   "name": "python3"
  },
  "language_info": {
   "codemirror_mode": {
    "name": "ipython",
    "version": 3
   },
   "file_extension": ".py",
   "mimetype": "text/x-python",
   "name": "python",
   "nbconvert_exporter": "python",
   "pygments_lexer": "ipython3",
   "version": "3.8.5"
  }
 },
 "nbformat": 4,
 "nbformat_minor": 4
}
